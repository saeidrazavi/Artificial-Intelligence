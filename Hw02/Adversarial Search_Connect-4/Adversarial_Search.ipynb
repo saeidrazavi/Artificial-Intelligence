{
  "cells": [
    {
      "cell_type": "markdown",
      "metadata": {
        "id": "r_VWlyJuzHB4"
      },
      "source": [
        "<div align=center>\n",
        "\t\t\n",
        "<p></p>\n",
        "<p></p>\n",
        "<font size=5>\n",
        "In the Name of God\n",
        "<font/>\n",
        "<p></p>\n",
        " <br/>\n",
        "    <br/>\n",
        "<font color=#FF7500>\n",
        "Sharif University of Technology - Department of Computer Engineering\n",
        "</font>\n",
        "<p></p>\n",
        "<font color=blue>\n",
        "Artificial Intelligence - Dr. Mohammad Hossein Rohban\n",
        "</font>\n",
        "<br/>\n",
        "<br/>\n",
        "Fall 2022\n",
        "\n",
        "<div/>\n",
        "\n",
        "<hr/>\n",
        "\t\t<div align=center>\n",
        "\t\t    <font color=red size=6>\n",
        "\t\t\t    <br />\n",
        "Practical Assignment(Adversarial Search)\n",
        "\t\t\t</font>\n",
        "    <br/>\n",
        "<font size=4>\n",
        "\t\t\t<br/><br/>\n",
        "Deadline:  1 Azar\n",
        "                <br/><b>\n",
        "              Cheating is Strongly Prohibited\n",
        "                </b><br/><br/>\n",
        "                <font color=red>\n",
        "Please run all the cells.\n",
        "     </font>\n",
        "</font>\n",
        "                <br/>\n",
        "    </div>"
      ]
    },
    {
      "cell_type": "markdown",
      "metadata": {
        "id": "iW2XZitszHB8"
      },
      "source": [
        "# Personal Info\n",
        "student_number =  98106542\n",
        "\n",
        "Name =   Saeed\n",
        "\n",
        "Last_Name = Razavi"
      ]
    },
    {
      "cell_type": "markdown",
      "metadata": {
        "id": "JwPSbDUizHB8"
      },
      "source": [
        "# Rules\n",
        "- This assignment is due Azar 1th 23:59:59. you can use up to 10 grace days for this assignment and the hard deadline is Azar 11th 23:59:59."
      ]
    },
    {
      "cell_type": "markdown",
      "metadata": {
        "id": "tPb4ZvryzHB9"
      },
      "source": [
        "## Libraries"
      ]
    },
    {
      "cell_type": "code",
      "execution_count": 1,
      "metadata": {
        "id": "-fsCty74zHB9",
        "colab": {
          "base_uri": "https://localhost:8080/"
        },
        "outputId": "fab649fd-0175-4a7a-dadc-3851b7b07cde"
      },
      "outputs": [
        {
          "output_type": "stream",
          "name": "stdout",
          "text": [
            "Looking in indexes: https://pypi.org/simple, https://us-python.pkg.dev/colab-wheels/public/simple/\n",
            "Requirement already satisfied: pygame in /usr/local/lib/python3.8/dist-packages (2.1.2)\n"
          ]
        }
      ],
      "source": [
        "! pip install pygame"
      ]
    },
    {
      "cell_type": "code",
      "source": [
        "import os\n",
        "os.environ['SDL_VIDEODRIVER']='dummy'\n",
        "import pygame\n",
        "pygame.display.set_mode((640,480))"
      ],
      "metadata": {
        "colab": {
          "base_uri": "https://localhost:8080/"
        },
        "id": "ynC7aXzvznYl",
        "outputId": "85d8bc6a-3918-4784-9441-977f286468c2"
      },
      "execution_count": 2,
      "outputs": [
        {
          "output_type": "stream",
          "name": "stdout",
          "text": [
            "pygame 2.1.2 (SDL 2.0.16, Python 3.8.15)\n",
            "Hello from the pygame community. https://www.pygame.org/contribute.html\n"
          ]
        },
        {
          "output_type": "execute_result",
          "data": {
            "text/plain": [
              "<Surface(640x480x32 SW)>"
            ]
          },
          "metadata": {},
          "execution_count": 2
        }
      ]
    },
    {
      "cell_type": "markdown",
      "metadata": {
        "id": "9nTiF3cLzHB-"
      },
      "source": [
        "# Adversarial Search (100 Points)"
      ]
    },
    {
      "cell_type": "markdown",
      "metadata": {
        "id": "y2jsibE0zHB-"
      },
      "source": [
        "<font size=4>\n",
        "Author: Amirreza Mirzaei\n",
        "\t\t\t<br/>\n",
        "                <font color=red>\n",
        "Please run all the cells.\n",
        "     </font>\n",
        "</font>\n",
        "                <br/>\n",
        "    </div>"
      ]
    },
    {
      "cell_type": "markdown",
      "metadata": {
        "id": "YNanenc6zHB_"
      },
      "source": [
        "In this problem you must implement a minimax agent to play a simple game know as Connect-4."
      ]
    },
    {
      "cell_type": "markdown",
      "metadata": {
        "id": "4mii-bf6zHB_"
      },
      "source": [
        "Connect Four is a two-player connection board game, in which the players choose a color and then take turns dropping colored tokens into a seven-column, six-row vertically suspended grid. The pieces fall straight down, occupying the lowest available space within the column. The objective of the game is to be the first to form a horizontal, vertical, or diagonal line of four of one's own tokens. You can play the game online [here](https://www.gimu.org/connect-four-js/plain/minimax/index.html).  \n",
        "In this version of the game we will use a nine-column, seven-row grid to play the game."
      ]
    },
    {
      "cell_type": "markdown",
      "metadata": {
        "id": "UnOfaYnVzHCA"
      },
      "source": [
        "The game has already been implemented for you. You should implement two things:  \n",
        "1 - Implement the two minimax player logic in _Player.py_ . For the first player you must create the minimax tree until you reach a terminal node(a state which a player has won or their is a draw) or a cutoff state. Then you must use an evaluation function to score the leafs and find the next best move. For the second player you must do all the above however when you are playing as max their is a probability that you will choose a random move instead of the best move.  \n",
        "2 - Implement the evaluation function in _Board.py_. Since we can't create the full game tree we need some sort of scoring function to differentiate between states. For example we can count the pieces in each row and column that are neighbours. better evaluation function will lead to a better minimax player.\n",
        "\n",
        "We will use the commented function in main.py to grade your code. You can also test your code by playing with it or using a random player."
      ]
    },
    {
      "cell_type": "markdown",
      "metadata": {
        "id": "O44y0kc5zHCB"
      },
      "source": [
        "You can play the game with a random player by running the next cell. Upon running it a GUI of the game will open."
      ]
    },
    {
      "cell_type": "code",
      "execution_count": null,
      "metadata": {
        "id": "i5phjaJQzHCB"
      },
      "outputs": [],
      "source": [
        "from Game import Game\n",
        "from Player import HumanPlayer, RandomPlayer, MiniMaxPlayer, MiniMaxProbPlayer\n",
        "\n",
        "# setting 1\n",
        "player1 = RandomPlayer(1)\n",
        "player2 = HumanPlayer(2)\n",
        "\n",
        "# you can also play the game with other settings in this cell\n",
        "# example 1:\n",
        "# player1 = RandomPlayer(1)\n",
        "# player2 = RandomPlayer(2)\n",
        "\n",
        "# example 2:\n",
        "# player1 = MiniMaxPlayer(1, depth=5)\n",
        "# player2 = MiniMaxProbPlayer(2, depth=5)\n",
        "\n",
        "game = Game(player1, player2)\n",
        "game.start_game()"
      ]
    },
    {
      "cell_type": "markdown",
      "metadata": {
        "id": "TuakEqpMzHCB"
      },
      "source": [
        "**Complete  the play function of MiniMaxPlayer and MiniMaxProbPlayer in _player.py_ and score_position function in _Board.py_ and then run the following cells to test your implementation.**  "
      ]
    },
    {
      "cell_type": "code",
      "source": [
        "from Game import Game\n",
        "from Player import HumanPlayer, RandomPlayer, MiniMaxPlayer, MiniMaxProbPlayer"
      ],
      "metadata": {
        "id": "o34hAhQbLDi2"
      },
      "execution_count": 3,
      "outputs": []
    },
    {
      "cell_type": "code",
      "execution_count": 4,
      "metadata": {
        "colab": {
          "base_uri": "https://localhost:8080/"
        },
        "id": "OgZFuKjizHCC",
        "outputId": "4fffe402-9b7a-4091-991e-3aa57185a69e"
      },
      "outputs": [
        {
          "output_type": "stream",
          "name": "stdout",
          "text": [
            "player1 is red. player2 is yellow.\n",
            "player2 goes first.\n",
            "player2 move:\n",
            "player1 move:\n",
            "player2 move:\n",
            "player1 move:\n",
            "player2 move:\n",
            "player1 move:\n",
            "player2 move:\n",
            "player1 move:\n",
            "PLAYER 1 WINS!\n",
            "player1 is red. player2 is yellow.\n",
            "player1 goes first.\n",
            "player1 move:\n",
            "player2 move:\n",
            "player1 move:\n",
            "player2 move:\n",
            "player1 move:\n",
            "player2 move:\n",
            "player1 move:\n",
            "player2 move:\n",
            "player1 move:\n",
            "PLAYER 1 WINS!\n",
            "player1 is red. player2 is yellow.\n",
            "player1 goes first.\n",
            "player1 move:\n",
            "player2 move:\n",
            "player1 move:\n",
            "player2 move:\n",
            "player1 move:\n",
            "player2 move:\n",
            "player1 move:\n",
            "PLAYER 1 WINS!\n",
            "player1 is red. player2 is yellow.\n",
            "player1 goes first.\n",
            "player1 move:\n",
            "player2 move:\n",
            "player1 move:\n",
            "player2 move:\n",
            "player1 move:\n",
            "player2 move:\n",
            "player1 move:\n",
            "player2 move:\n",
            "player1 move:\n",
            "player2 move:\n",
            "player1 move:\n",
            "PLAYER 1 WINS!\n",
            "player1 is red. player2 is yellow.\n",
            "player2 goes first.\n",
            "player2 move:\n",
            "player1 move:\n",
            "player2 move:\n",
            "player1 move:\n",
            "player2 move:\n",
            "player1 move:\n",
            "player2 move:\n",
            "player1 move:\n",
            "PLAYER 1 WINS!\n",
            "player1 is red. player2 is yellow.\n",
            "player2 goes first.\n",
            "player2 move:\n",
            "player1 move:\n",
            "player2 move:\n",
            "player1 move:\n",
            "player2 move:\n",
            "player1 move:\n",
            "player2 move:\n",
            "player1 move:\n",
            "PLAYER 1 WINS!\n",
            "player1 is red. player2 is yellow.\n",
            "player2 goes first.\n",
            "player2 move:\n",
            "player1 move:\n",
            "player2 move:\n",
            "player1 move:\n",
            "player2 move:\n",
            "player1 move:\n",
            "player2 move:\n",
            "player1 move:\n",
            "PLAYER 1 WINS!\n",
            "player1 is red. player2 is yellow.\n",
            "player2 goes first.\n",
            "player2 move:\n",
            "player1 move:\n",
            "player2 move:\n",
            "player1 move:\n",
            "player2 move:\n",
            "player1 move:\n",
            "player2 move:\n",
            "player1 move:\n",
            "player2 move:\n",
            "player1 move:\n",
            "PLAYER 1 WINS!\n",
            "player1 is red. player2 is yellow.\n",
            "player2 goes first.\n",
            "player2 move:\n",
            "player1 move:\n",
            "player2 move:\n",
            "player1 move:\n",
            "player2 move:\n",
            "player1 move:\n",
            "player2 move:\n",
            "player1 move:\n",
            "player2 move:\n",
            "player1 move:\n",
            "PLAYER 1 WINS!\n",
            "player1 is red. player2 is yellow.\n",
            "player2 goes first.\n",
            "player2 move:\n",
            "player1 move:\n",
            "player2 move:\n",
            "player1 move:\n",
            "player2 move:\n",
            "player1 move:\n",
            "player2 move:\n",
            "player1 move:\n",
            "PLAYER 1 WINS!\n",
            "player1 is red. player2 is yellow.\n",
            "player2 goes first.\n",
            "player2 move:\n",
            "player1 move:\n",
            "player2 move:\n",
            "player1 move:\n",
            "player2 move:\n",
            "player1 move:\n",
            "player2 move:\n",
            "player1 move:\n",
            "player2 move:\n",
            "player1 move:\n",
            "player2 move:\n",
            "player1 move:\n",
            "player2 move:\n",
            "player1 move:\n",
            "player2 move:\n",
            "player1 move:\n",
            "PLAYER 1 WINS!\n",
            "player1 is red. player2 is yellow.\n",
            "player2 goes first.\n",
            "player2 move:\n",
            "player1 move:\n",
            "player2 move:\n",
            "player1 move:\n",
            "player2 move:\n",
            "player1 move:\n",
            "player2 move:\n",
            "player1 move:\n",
            "player2 move:\n",
            "player1 move:\n",
            "player2 move:\n",
            "player1 move:\n",
            "player2 move:\n",
            "player1 move:\n",
            "player2 move:\n",
            "player1 move:\n",
            "player2 move:\n",
            "player1 move:\n",
            "player2 move:\n",
            "player1 move:\n",
            "player2 move:\n",
            "player1 move:\n",
            "player2 move:\n",
            "player1 move:\n",
            "player2 move:\n",
            "player1 move:\n",
            "player2 move:\n",
            "player1 move:\n",
            "player2 move:\n",
            "player1 move:\n",
            "player2 move:\n",
            "player1 move:\n",
            "player2 move:\n",
            "player1 move:\n",
            "player2 move:\n",
            "player1 move:\n",
            "player2 move:\n",
            "player1 move:\n",
            "player2 move:\n",
            "player1 move:\n",
            "player2 move:\n",
            "player1 move:\n",
            "player2 move:\n",
            "player1 move:\n",
            "player2 move:\n",
            "player1 move:\n",
            "player2 move:\n",
            "player1 move:\n",
            "player2 move:\n",
            "player1 move:\n",
            "PLAYER 1 WINS!\n",
            "minimax player vs random player win=10, lose=0, draw=0\n",
            "minimax player vs minimax prob player win=2, lose=0, draw=0\n",
            "you will earn the full mark from random player vs minimax\n"
          ]
        }
      ],
      "source": [
        "def get_game_result(player1, player2, num_game):\n",
        "    win, lose, draw = 0, 0, 0\n",
        "    for i in range(num_game):\n",
        "        game = Game(player1, player2, graphics=True)\n",
        "        result = game.start_game()\n",
        "        if result == 1:\n",
        "            win += 1\n",
        "        elif result == 2:\n",
        "            lose += 1\n",
        "        else:\n",
        "            draw += 1\n",
        "    return win, lose, draw\n",
        "        \n",
        "def mark():\n",
        "    player1 = MiniMaxPlayer(1, depth=4)\n",
        "    player2 = RandomPlayer(2)\n",
        "    player3 = MiniMaxProbPlayer(2, depth=3, prob_stochastic=0.8)\n",
        "    win1, lose1, draw1 = get_game_result(player1, player2, 10)\n",
        "    win2, lose2, draw2 = get_game_result(player1, player3, 2)\n",
        "    print(f'minimax player vs random player win={win1}, lose={lose1}, draw={draw1}')\n",
        "    print(f'minimax player vs minimax prob player win={win2}, lose={lose2}, draw={draw2}')\n",
        "    if win1+win2 == 12:\n",
        "        print('you will earn the full mark from random player vs minimax')\n",
        "\n",
        "mark()"
      ]
    }
  ],
  "metadata": {
    "kernelspec": {
      "display_name": "Python 3",
      "language": "python",
      "name": "python3"
    },
    "language_info": {
      "codemirror_mode": {
        "name": "ipython",
        "version": 3
      },
      "file_extension": ".py",
      "mimetype": "text/x-python",
      "name": "python",
      "nbconvert_exporter": "python",
      "pygments_lexer": "ipython3",
      "version": "3.8.5"
    },
    "vscode": {
      "interpreter": {
        "hash": "aee8b7b246df8f9039afb4144a1f6fd8d2ca17a180786b69acc140d282b71a49"
      }
    },
    "colab": {
      "provenance": []
    }
  },
  "nbformat": 4,
  "nbformat_minor": 0
}