{
  "cells": [
    {
      "cell_type": "markdown",
      "metadata": {
        "id": "DoTFJVMznI1-"
      },
      "source": [
        "<div align=center>\n",
        "\t\t\n",
        "<p></p>\n",
        "<p></p>\n",
        "<font size=5>\n",
        "In the Name of God\n",
        "<font/>\n",
        "<p></p>\n",
        " <br/>\n",
        "    <br/>\n",
        "<font color=#FF7500>\n",
        "Sharif University of Technology - Department of Computer Engineering\n",
        "</font>\n",
        "<p></p>\n",
        "<font color=blue>\n",
        "Artificial Intelligence - Dr. Mohammad Hossein Rohban\n",
        "</font>\n",
        "<br/>\n",
        "<br/>\n",
        "Fall 2022\n",
        "\n",
        "<div/>\n",
        "\n",
        "<hr/>\n",
        "\t\t<div align=center>\n",
        "\t\t    <font color=red size=6>\n",
        "\t\t\t    <br />\n",
        "Practical Assignment 2\n",
        "\t\t\t</font>\n",
        "    <br/>\n",
        "<font size=4>\n",
        "\t\t\t<br/><br/>\n",
        "Deadline:  1 Azar\n",
        "                <br/><b>\n",
        "              Cheating is Strongly Prohibited\n",
        "                </b><br/><br/>\n",
        "                <font color=red>\n",
        "Please run all the cells.\n",
        "     </font>\n",
        "</font>\n",
        "                <br/>\n",
        "    </div>"
      ]
    },
    {
      "cell_type": "markdown",
      "metadata": {
        "id": "d6ozlCETnT45"
      },
    },
    {
      "cell_type": "markdown",
      "metadata": {
        "id": "R3ymmJxPnbB_"
      },
      "source": [
        "# Rules\n",
        "- This assignment is due Azar 1th 23:59:59. you can use up to 10 grace days for this assignment and the hard deadline is Azar 11th 23:59:59."
      ]
    },
    {
      "cell_type": "markdown",
      "metadata": {
        "id": "r10FzNKLnhrB"
      },
      "source": [
        "# CSP (Constraint Satisfaction Problem) (100 Points)"
      ]
    },
    {
      "cell_type": "markdown",
      "metadata": {
        "id": "iqwstymjnvnp"
      },
      "source": [
        "<font size=4>\n",
        "Author: M.Taha Jahani-Nezhad\n",
        "\t\t\t<br/>\n",
        "</font>\n",
        "    </div>"
      ]
    },
    {
      "cell_type": "markdown",
      "metadata": {
        "id": "vC5_ViP2reWj"
      },
      "source": [
        "In this homework, we are going to take a look at a famous problem which has many different practical usages in the engineering world.\n",
        "Informally, the problem is about marking different parts of a special ruler such that the distance between every two marks is unique.\n",
        "\n",
        "To give you an example, consider the ruler below:\n",
        "\n",
        "![Normal Ruler.png](data:image/png;base64,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)\n",
        "\n",
        "Now if we want to put ${5}$ marks on the ruler, with the condition stated above, the result might look like the image below:\n",
        "\n",
        "![Marked Ruler.png](data:image/png;base64,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)\n",
        "\n",
        "If we take dive deeper, we will see that the difference between every two marks is unique:\n",
        "\n",
        "${1-0 = 1, 4-0=4, 9-0=9, 11-0=11, 4-1=3, ...}$\n",
        "\n",
        "we call this kind of ruler, a *Golomb Ruler*, named after the american mathematician, Solomon W. Golomb.\n",
        "\n",
        "Note that, it is proven through trial and error that among all the different acceptable answers of this problem with ${5}$ marks, a ruler with the length of ${11}$ is the shortest possible ruler."
      ]
    },
    {
      "cell_type": "markdown",
      "metadata": {
        "id": "hCLmcUd1u-eJ"
      },
      "source": [
        "The formal difinition of this problem is as follows:\n",
        "A set of integers\n",
        "\n",
        "\\begin{equation}\n",
        "A = {a_1, a_2, ..., a_n} \\qquad a_1<a_2<...<a_n\n",
        "\\end{equation}\n",
        "\n",
        "is called a Golomb ruler if for each integer ${x\\neq0}$ there is at most one solution to the equation\n",
        "\n",
        "\\begin{equation}\n",
        "x = a_j - a_i \\qquad a_j,a_i \\in A\n",
        "\\end{equation}\n",
        "\n",
        "The difference between the largest and the smallest element of the set, i.e. ${a_n - a_1}$, is called the **length** of the ruler.\n",
        "\n",
        "In this homework, we are going to use CSP methods to find the smallest golomb ruler for a given number of marks."
      ]
    },
    {
      "cell_type": "markdown",
      "metadata": {
        "id": "ACE3RUgk01k9"
      },
      "source": [
        "**Complete the _CSP.py_ file and then run the following cells to test your implementation.**\n",
        "\n",
        "*Be aware that it is obvious that you cannot pass all the 26 tests with normal computers - they require strong servers and they take a huge amount of time - but at least you have to pass about 7 or 8 first tests to get most of this homework mark.*"
      ]
    },
    {
      "cell_type": "markdown",
      "metadata": {
        "id": "fAnJKang1xdz"
      },
      "source": [
        "## Testing Your Code"
      ]
    },
    {
      "cell_type": "markdown",
      "metadata": {
        "id": "OeiA8qSM1zg4"
      },
      "source": [
        "The test data for this homework is a simple .csv file with three columns: number of marks, minimum available length and place of each mark.\n",
        "Your code is tested with two functions: `find_minimum_length()` and `get_variables()`\n",
        "\n",
        "Note that in some cases, there might be multiple acceptable assignment of variables but you have to return the one which is numerically the lowest.\n",
        "\n",
        "To test you code, put the `data.csv` file in the same folder of your code and run this script:"
      ]
    },
    {
      "cell_type": "code",
      "execution_count": 1,
      "metadata": {
        "id": "g1BoDC1PTFuQ",
        "colab": {
          "base_uri": "https://localhost:8080/"
        },
        "outputId": "396bea49-5045-4cf8-d9ff-98206cf06428"
      },
      "outputs": [
        {
          "output_type": "stream",
          "name": "stdout",
          "text": [
            "Running Test 0...,  passed!\n",
            "Running Test 1...,  passed!\n",
            "Running Test 2...,  passed!\n",
            "Running Test 3...,  passed!\n",
            "Running Test 4...,  passed!\n",
            "Running Test 5...,  passed!\n",
            "Running Test 6...,  passed!\n",
            "Running Test 7...,  \u001b[31mfailed\u001b[0m\n",
            "Running Test 8...,  \u001b[31mfailed\u001b[0m\n",
            "Running Test 9...,  \u001b[31mfailed\u001b[0m\n",
            "Running Test 10...,  \u001b[31mfailed\u001b[0m\n",
            "Running Test 11...,  \u001b[31mfailed\u001b[0m\n",
            "Running Test 12...,  \u001b[31mfailed\u001b[0m\n",
            "Running Test 13...,  \u001b[31mfailed\u001b[0m\n",
            "Running Test 14...,  \u001b[31mfailed\u001b[0m\n",
            "Running Test 15...,  \u001b[31mfailed\u001b[0m\n",
            "Running Test 16...,  \u001b[31mfailed\u001b[0m\n",
            "Running Test 17...,  \u001b[31mfailed\u001b[0m\n",
            "Running Test 18...,  \u001b[31mfailed\u001b[0m\n",
            "Running Test 19...,  \u001b[31mfailed\u001b[0m\n",
            "Running Test 20...,  \u001b[31mfailed\u001b[0m\n",
            "Running Test 21...,  \u001b[31mfailed\u001b[0m\n",
            "Running Test 22...,  \u001b[31mfailed\u001b[0m\n",
            "Running Test 23...,  \u001b[31mfailed\u001b[0m\n",
            "Running Test 24...,  \u001b[31mfailed\u001b[0m\n",
            "Running Test 25...,  \u001b[31mfailed\u001b[0m\n"
          ]
        }
      ],
      "source": [
        "import signal\n",
        "import pandas as pd\n",
        "from CSP import CSP\n",
        "\n",
        "# You are not allowed to change this cell!\n",
        "\n",
        "def handler(signum, frame):\n",
        "    raise Exception(\"End Of Running Time\")\n",
        "\n",
        "\n",
        "def run_tests():\n",
        "    df = pd.read_csv(\"data.csv\")\n",
        "    df = df.reset_index()\n",
        "    for index, row in df.iterrows():\n",
        "        signal.signal(signal.SIGALRM, handler)\n",
        "        signal.alarm(10)\n",
        "        csp = CSP(int(row['marks']))\n",
        "        print(f\"Running Test {index}..., \", end=\" \")\n",
        "        try:\n",
        "            result = csp.find_minimum_length()\n",
        "            variables = csp.get_variables()\n",
        "            expected = int(row['len'])\n",
        "            check_variables = check_output(variables, row['array'])\n",
        "            accepted = result == expected and check_variables\n",
        "        except:\n",
        "            accepted = False\n",
        "        if accepted:\n",
        "            print(f\"passed!\")\n",
        "        else:\n",
        "            print(f\"\\u001B[31mfailed\\u001B[0m\")\n",
        "\n",
        "\n",
        "def check_output(output, expected):\n",
        "    expected = sorted(map(int, expected.split(\" \")))\n",
        "    output = sorted(output)\n",
        "    if len(expected) != len(output):\n",
        "        return False\n",
        "    for i in range(len(expected)):\n",
        "        if expected[i] != output[i]:\n",
        "            return False\n",
        "    return True\n",
        "\n",
        "\n",
        "run_tests()\n"
      ]
    }
  ],
  "metadata": {
    "colab": {
      "provenance": []
    },
    "kernelspec": {
      "display_name": "Python 3.9.7 64-bit",
      "language": "python",
      "name": "python3"
    },
    "language_info": {
      "name": "python",
      "version": "3.9.7"
    },
    "vscode": {
      "interpreter": {
        "hash": "2da662e7b1c30472fdf8862138642a1af413fe6e4e58a7045047f9b81d51ab10"
      }
    }
  },
  "nbformat": 4,
  "nbformat_minor": 0
}
