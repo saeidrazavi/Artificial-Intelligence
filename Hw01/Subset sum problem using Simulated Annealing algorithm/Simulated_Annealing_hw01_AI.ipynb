{
  "cells": [
    {
      "cell_type": "markdown",
      "metadata": {
        "id": "KyPKWlp8edgW"
      },
      "source": [
        "<div align=center>\n",
        "\t\t\n",
        "<p></p>\n",
        "<p></p>\n",
        "<font size=5>\n",
        "In the Name of God\n",
        "<font/>\n",
        "<p></p>\n",
        " <br/>\n",
        "    <br/>\n",
        "<font color=#FF7500>\n",
        "Sharif University of Technology - Department of Computer Engineering\n",
        "</font>\n",
        "<p></p>\n",
        "<font color=blue>\n",
        "Artificial Intelligence - Dr. Mohammad Hossein Rohban\n",
        "</font>\n",
        "<br/>\n",
        "<br/>\n",
        "Fall 2022\n",
        "\n",
        "<div/>\n",
        "\n",
        "<hr/>\n",
        "\t\t<div align=center>\n",
        "\t\t    <font color=red size=6>\n",
        "\t\t\t    <br />\n",
        "Practical Assignment 1\n",
        "\t\t\t</font>\n",
        "    <br/>\n",
        "<font size=4>\n",
        "\t\t\t<br/><br/>\n",
        "Deadline:  1 Aban\n",
        "                <br/><b>\n",
        "              Cheating is Strongly Prohibited\n",
        "                </b><br/><br/>\n",
        "                <font color=red>\n",
        "Please run all the cells.\n",
        "     </font>\n",
        "</font>\n",
        "                <br/>\n",
        "    </div>"
      ]
    },
    {
      "cell_type": "markdown",
      "metadata": {
        "id": "L9VeZ3oQedgY"
      },
      "source": [
        "# Personal Info\n",
        "student_number = 98106542\n",
        "\n",
        "Name =   Saeed\n",
        "\n",
        "Last_Name = Razavi"
      ]
    },
    {
      "cell_type": "markdown",
      "metadata": {
        "id": "zgLoFRPYedgY"
      },
      "source": [
        "# Rules\n",
        "- This assignment is due Aban 1th 23:59:59. you can use up to 10 grace days for this assignment and the hard deadline is Aban 11th 23:59:59."
      ]
    },
    {
      "cell_type": "markdown",
      "metadata": {
        "id": "Oj_CPuCDedgY"
      },
      "source": [
        "## Libraries"
      ]
    },
    {
      "cell_type": "code",
      "execution_count": null,
      "metadata": {
        "id": "dfaC_5s6edgZ"
      },
      "outputs": [],
      "source": [
        "! pip install numpy\n",
        "! pip install pandas\n",
        "! pip install tqdm\n",
        "! pip install matplotlib"
      ]
    },
    {
      "cell_type": "code",
      "execution_count": null,
      "metadata": {
        "id": "eTj4tkTgedgZ"
      },
      "outputs": [],
      "source": [
        "import numpy as np\n",
        "import pandas as pd\n",
        "import pickle as pkl\n",
        "from tqdm import tqdm\n",
        "from matplotlib import pyplot as plt\n",
        "from simulated_annealing import SimulatedAnnealing"
      ]
    },
    {
      "cell_type": "markdown",
      "metadata": {
        "id": "w-x6BtDmedgZ"
      },
      "source": [
        "# Simulated Annealing (100 Points)"
      ]
    },
    {
      "cell_type": "markdown",
      "metadata": {
        "id": "AyYxjykZedga"
      },
      "source": [
        "<font size=4>\n",
        "Authors: Arshan Dalili\n",
        "\t\t\t<br/>\n",
        "                <font color=red>\n",
        "Please run all the cells.\n",
        "     </font>\n",
        "</font>\n",
        "                <br/>\n",
        "    </div>"
      ]
    },
    {
      "cell_type": "markdown",
      "metadata": {
        "id": "q4MrYjxVedga"
      },
      "source": [
        "In This Problem, We want to investigate the subset sum problem. Informally, find a subset from a given set of numbers that their sum is equal to a given number. For example, if the given set is $ {1, 2, 3, 4, 5}$  and the given number is $ 10 $, then the subset $ {1, 2, 3, 4} $ is a solution. One important assumption that we make is that the given set is a set of positive integers. In this problem, we want to find a solution for the subset sum problem using Simulated Annealing.\n"
      ]
    },
    {
      "cell_type": "markdown",
      "metadata": {
        "id": "4ltY8bWPedga"
      },
      "source": [
        "The Formal definition of the problem is as follows:\n",
        "Given a set of positive integers $ S $ and a positive integer $ k $, find a subset $ S' $ of $ S $ such that $ \\sum_{i \\in S'} i = k $.\n",
        "\n",
        "We call an answer feasible if it is a subset of $ S $ and its sum is **less than or equal** to $ k $. (i.e. $ \\sum_{i \\in S'} i \\leq k $)"
      ]
    },
    {
      "cell_type": "markdown",
      "metadata": {
        "id": "Uo53c9-Fedga"
      },
      "source": [
        "This variant of Subset Sum is a famous NP-Complete optimization problem. It means that we currently don't have any polynomial-time algorithm for this problem. Therefore it is reasonable to use optimization algorithms like local search to find an approximate but not necessarily perfect answer."
      ]
    },
    {
      "cell_type": "markdown",
      "metadata": {
        "id": "nDc_4vf4edgb"
      },
      "source": [
        "Answer to this problem is a vector $ \\overrightarrow{x} $ of $ 0 $ and $ 1 $ of length $ |S| $, where $ 1 $ means that the corresponding element of $ S $ is in the subset and $ 0 $ means that it is not. For example, if $ S = \\{1, 2, 3, 4, 5\\} $ and $ k = 10 $, then one of the feasible answers is $ [1, 1, 1, 1, 0] $. (i.e. $ \\overrightarrow{x}.\\overrightarrow{S} \\leq 10 $)"
      ]
    },
    {
      "cell_type": "markdown",
      "metadata": {
        "id": "G0MhasDUedgb"
      },
      "source": [
        "**Complete the _SimulatedAnnealing.py_ file and then run the following cells to test your implementation.**"
      ]
    },
    {
      "cell_type": "markdown",
      "metadata": {
        "id": "6V5FW_F8edgb"
      },
      "source": [
        "## Reading input data"
      ]
    },
    {
      "cell_type": "markdown",
      "metadata": {
        "id": "OgZY9xsDedgb"
      },
      "source": [
        "We provide data in the form of pickle (.pkl) file. The input is a list of two dictionaries. Each dictionary represents a set ($ S $) and a target value ($ T $). By running the below code, you can read the data and see the sets and the target values. (You can access to $ i $ th set by $ inputs[i]['S'] $ and $ i $ th target value by $ inputs[i]['T'] $)"
      ]
    },
    {
      "cell_type": "code",
      "execution_count": null,
      "metadata": {
        "id": "hpdRIDAsedgb"
      },
      "outputs": [],
      "source": [
        "\"\"\"\n",
        "No need to change this cell.\n",
        "\"\"\"\n",
        "\n",
        "def read_inputs(path='inputs.pkl'):\n",
        "    inputs = None\n",
        "    with open(path, 'rb') as fp:\n",
        "        inputs = pkl.load(fp)\n",
        "    return inputs\n",
        "\n",
        "inputs = read_inputs()"
      ]
    },
    {
      "cell_type": "markdown",
      "metadata": {
        "id": "HuMQ773Uedgb"
      },
      "source": [
        "Use the function below to visualize the progress of your algorithm. It will plot the cost of the best solution found so far in each iteration. You can use it to see how your algorithm is progressing."
      ]
    },
    {
      "cell_type": "code",
      "execution_count": null,
      "metadata": {
        "id": "5MwUC3j7edgc"
      },
      "outputs": [],
      "source": [
        "\"\"\"\n",
        "No need to change this cell.\n",
        "\n",
        "\"\"\"\n",
        "\n",
        "def plot(records):\n",
        "    plt.xlabel(\"Iterations\")\n",
        "    plt.ylabel(\"Cost\")\n",
        "    plt.title(\"Cost Vs. Iterations\")\n",
        "    plt.plot(records['iteration'], records['best_cost'])\n",
        "    plt.show()"
      ]
    },
    {
      "cell_type": "markdown",
      "metadata": {
        "id": "D4avyzGOedgc"
      },
      "source": [
        "Run the cell below to run the algorithm on the test cases. (Feel free to change the parameters of the algorithm)"
      ]
    },
    {
      "cell_type": "code",
      "execution_count": null,
      "metadata": {
        "colab": {
          "base_uri": "https://localhost:8080/",
          "height": 1000
        },
        "id": "CTMNG6WHedgc",
        "outputId": "ee1db269-d783-4956-cf3b-9058c787e52e"
      },
      "outputs": [
        {
          "name": "stderr",
          "output_type": "stream",
          "text": [
            "100%|██████████| 6000/6000 [00:01<00:00, 4869.92it/s]\n"
          ]
        },
        {
          "name": "stdout",
          "output_type": "stream",
          "text": [
            "Best Value Found: 139532 - Target Value: 139533\n"
          ]
        },
        {
          "data": {
            "image/png": "[encoded data removed]",
            "text/plain": [
              "<Figure size 432x288 with 1 Axes>"
            ]
          },
          "metadata": {
            "needs_background": "light"
          },
          "output_type": "display_data"
        },
        {
          "name": "stderr",
          "output_type": "stream",
          "text": [
            "  0%|          | 0/10000 [00:00<?, ?it/s]/content/simulated_annealing.py:130: RuntimeWarning: invalid value encountered in power\n",
            "  P = math.exp(- ((next_state_cost - state_cost) ** 1.5) / temperature)\n",
            "100%|██████████| 10000/10000 [00:00<00:00, 10144.79it/s]\n"
          ]
        },
        {
          "name": "stdout",
          "output_type": "stream",
          "text": [
            "Best Value Found: 231077 - Target Value: 238208\n"
          ]
        },
        {
          "data": {
            "image/png": "[encoded data removed]",
            "text/plain": [
              "<Figure size 432x288 with 1 Axes>"
            ]
          },
          "metadata": {
            "needs_background": "light"
          },
          "output_type": "display_data"
        },
        {
          "name": "stderr",
          "output_type": "stream",
          "text": [
            "  0%|          | 0/20000 [00:00<?, ?it/s]/content/simulated_annealing.py:130: RuntimeWarning: invalid value encountered in power\n",
            "  P = math.exp(- ((next_state_cost - state_cost) ** 1.5) / temperature)\n",
            "100%|██████████| 20000/20000 [00:02<00:00, 6965.09it/s]\n"
          ]
        },
        {
          "name": "stdout",
          "output_type": "stream",
          "text": [
            "Best Value Found: 452843 - Target Value: 452844\n"
          ]
        },
        {
          "data": {
            "image/png": "[encoded data removed]",
            "text/plain": [
              "<Figure size 432x288 with 1 Axes>"
            ]
          },
          "metadata": {
            "needs_background": "light"
          },
          "output_type": "display_data"
        }
      ],
      "source": [
        "simulated_annealing = SimulatedAnnealing()\n",
        "for test in inputs:\n",
        "    best_cost, best_solution, records = simulated_annealing.run_algorithm(test['S'], test['T'], stopping_iter=2*len(test['S']))\n",
        "    print(f\"Best Value Found: {np.dot(best_solution, test['S'])} - Target Value: {test['T']}\")\n",
        "    plot(records)"
      ]
    }
  ],
  "metadata": {
    "colab": {
      "provenance": []
    },
    "kernelspec": {
      "display_name": "Python 3.9.7 64-bit",
      "language": "python",
      "name": "python3"
    },
    "language_info": {
      "codemirror_mode": {
        "name": "ipython",
        "version": 3
      },
      "file_extension": ".py",
      "mimetype": "text/x-python",
      "name": "python",
      "nbconvert_exporter": "python",
      "pygments_lexer": "ipython3",
      "version": "3.9.7"
    },
    "vscode": {
      "interpreter": {
        "hash": "2da662e7b1c30472fdf8862138642a1af413fe6e4e58a7045047f9b81d51ab10"
      }
    }
  },
  "nbformat": 4,
  "nbformat_minor": 0
}
