{
  "cells": [
    {
      "cell_type": "markdown",
      "metadata": {
        "id": "vh0X50LONN_O"
      },
      "source": [
        "<div align=center>\n",
        "\t\t\n",
        "<p></p>\n",
        "<p></p>\n",
        "<font size=5>\n",
        "In the Name of God\n",
        "<font/>\n",
        "<p></p>\n",
        " <br/>\n",
        "    <br/>\n",
        "<font color=#FF7500>\n",
        "Sharif University of Technology - Department of Computer Engineering\n",
        "</font>\n",
        "<p></p>\n",
        "<font color=blue>\n",
        "Artificial Intelligence - Dr. Mohammad Hossein Rohban\n",
        "</font>\n",
        "<br/>\n",
        "<br/>\n",
        "Fall 2022\n",
        "\n",
        "<div/>\n",
        "\n",
        "<hr/>\n",
        "\t\t<div align=center>\n",
        "\t\t    <font color=red size=6>\n",
        "\t\t\t    <br />\n",
        "Practical Assignment 1\n",
        "\t\t\t</font>\n",
        "    <br/>\n",
        "<font size=4>\n",
        "\t\t\t<br/><br/>\n",
        "Deadline:  1 Aban\n",
        "                <br/><b>\n",
        "              Cheating is Strongly Prohibited\n",
        "                </b><br/><br/>\n",
        "                <font color=red>\n",
        "Please run all the cells.\n",
        "     </font>\n",
        "</font>\n",
        "                <br/>\n",
        "    </div>"
      ]
    },
    {
      "cell_type": "markdown",
      "metadata": {
        "id": "j-rKd-CvNN_T"
      },
      "source": [
        "# Personal Info\n",
        "student_number =  98106542\n",
        "\n",
        "Name =   Saeed\n",
        "\n",
        "Last_Name = Razavi"
      ]
    },
    {
      "cell_type": "markdown",
      "metadata": {
        "id": "tAgQldkXNN_T"
      },
      "source": [
        "# Rules\n",
        "- This assignment is due Aban 1th 23:59:59. you can use up to 10 grace days for this assignment and the hard deadline is Aban 11th 23:59:59."
      ]
    },
    {
      "cell_type": "markdown",
      "metadata": {
        "id": "U-80h78aNN_T"
      },
      "source": [
        "## Libraries"
      ]
    },
    {
      "cell_type": "code",
      "execution_count": null,
      "metadata": {
        "id": "6fpbLjCLNN_U"
      },
      "outputs": [],
      "source": [
        "! pip install numpy\n",
        "! pip install pandas\n",
        "! pip install tqdm\n",
        "! pip install matplotlib"
      ]
    },
    {
      "cell_type": "code",
      "execution_count": null,
      "metadata": {
        "id": "iNfeV7XANN_V"
      },
      "outputs": [],
      "source": [
        "import numpy as np\n",
        "import pandas as pd\n",
        "import pickle as pkl\n",
        "from tqdm import tqdm\n",
        "from matplotlib import pyplot as plt\n",
        "from genetic import Genetic"
      ]
    },
    {
      "cell_type": "markdown",
      "metadata": {
        "id": "WQGN7_jzNN_V"
      },
      "source": [
        "# Genetic Algorithm (100 Points)"
      ]
    },
    {
      "cell_type": "markdown",
      "metadata": {
        "id": "FEl42o1HNN_W"
      },
      "source": [
        "<font size=4>\n",
        "Author: Arshan Dalili\n",
        "\t\t\t<br/>\n",
        "                <font color=red>\n",
        "Please run all the cells.\n",
        "     </font>\n",
        "</font>\n",
        "                <br/>\n",
        "    </div>"
      ]
    },
    {
      "cell_type": "markdown",
      "metadata": {
        "id": "F3LFE7ZSNN_W"
      },
      "source": [
        "In This Problem, We want to investigate the subset sum problem. Informally, find a subset from a given set of numbers that their sum is equal to a given number. For example, if the given set is $ {1, 2, 3, 4, 5}$  and the given number is $ 10 $, then the subset $ {1, 2, 3, 4} $ is a solution. One important assumption that we make is that the given set is a set of positive integers. In this problem, we want to find a solution for the subset sum problem using Genetic Algorithm.\n"
      ]
    },
    {
      "cell_type": "markdown",
      "metadata": {
        "id": "ETFrkNnCNN_X"
      },
      "source": [
        "The Formal definition of the problem is as follows:\n",
        "Given a set of positive integers $ S $ and a positive integer $ k $, find a subset $ S' $ of $ S $ such that $ \\sum_{i \\in S'} i = k $.\n",
        "\n",
        "We call an answer feasible if it is a subset of $ S $ and its sum is **less than or equal** to $ k $. (i.e. $ \\sum_{i \\in S'} i \\leq k $)"
      ]
    },
    {
      "cell_type": "markdown",
      "metadata": {
        "id": "TBOAPXdMNN_X"
      },
      "source": [
        "This variant of Subset Sum is a famous NP-Complete optimization problem. It means that we currently don't have any polynomial-time algorithm for this problem. Therefore it is reasonable to use optimization algorithms like local search to find an approximate but not necessarily perfect answer."
      ]
    },
    {
      "cell_type": "markdown",
      "metadata": {
        "id": "tdUfrEdQNN_Y"
      },
      "source": [
        "Answer to this problem is a vector $ \\overrightarrow{x} $ of $ 0 $ and $ 1 $ of length $ |S| $, where $ 1 $ means that the corresponding element of $ S $ is in the subset and $ 0 $ means that it is not. For example, if $ S = \\{1, 2, 3, 4, 5\\} $ and $ k = 10 $, then one of the feasible answers is $ [1, 1, 1, 1, 0] $. (i.e. $ \\overrightarrow{x}.\\overrightarrow{S} \\leq 10 $)"
      ]
    },
    {
      "cell_type": "markdown",
      "metadata": {
        "id": "150g1v_bNN_Y"
      },
      "source": [
        "**Complete the _Genetic.py_ file and then run the following cells to test your implementation.**"
      ]
    },
    {
      "cell_type": "markdown",
      "metadata": {
        "id": "nFUQ9MRQNN_Y"
      },
      "source": [
        "## Reading input data"
      ]
    },
    {
      "cell_type": "markdown",
      "metadata": {
        "id": "YN6GDLcmNN_Y"
      },
      "source": [
        "We provide data in the form of pickle (.pkl) file. The input is a list of two dictionaries. Each dictionary represents a set ($ S $) and a target value ($ T $). By running the below code, you can read the data and see the sets and the target values. (You can access to $ i $ th set by $ inputs[i]['S'] $ and $ i $ th target value by $ inputs[i]['T'] $)"
      ]
    },
    {
      "cell_type": "code",
      "execution_count": null,
      "metadata": {
        "id": "rQNotqZINN_Z"
      },
      "outputs": [],
      "source": [
        "\"\"\"\n",
        "No need to change this cell.\n",
        "\"\"\"\n",
        "\n",
        "def read_inputs(path='inputs.pkl'):\n",
        "    inputs = None\n",
        "    with open(path, 'rb') as fp:\n",
        "        inputs = pkl.load(fp)\n",
        "    return inputs\n",
        "\n",
        "inputs = read_inputs()"
      ]
    },
    {
      "cell_type": "markdown",
      "metadata": {
        "id": "iNvzPyB6NN_Z"
      },
      "source": [
        "Use the function below to visualize the progress of your algorithm. It will plot the cost of the best solution found so far in each iteration. You can use it to see how your algorithm is progressing."
      ]
    },
    {
      "cell_type": "code",
      "execution_count": null,
      "metadata": {
        "id": "PeHeeb2SNN_Z"
      },
      "outputs": [],
      "source": [
        "\"\"\"\n",
        "No need to change this cell.\n",
        "\"\"\"\n",
        "\n",
        "def plot(records):\n",
        "    plt.xlabel(\"Iterations\")\n",
        "    plt.ylabel(\"Cost\")\n",
        "    plt.title(\"Cost Vs. Iterations\")\n",
        "    plt.plot(records['iteration'], records['best_cost'])\n",
        "    plt.show()"
      ]
    },
    {
      "cell_type": "markdown",
      "metadata": {
        "id": "hURMKtmpNN_Z"
      },
      "source": [
        "Run the cell below to run the algorithm on the test cases. It may take a couple of minutes to run. (You can change the _*num_generations*_ during the development phase, but at the end, you should run it with $ 2*len(test['S']) $ for each test case)"
      ]
    },
    {
      "cell_type": "code",
      "execution_count": null,
      "metadata": {
        "colab": {
          "base_uri": "https://localhost:8080/",
          "height": 955
        },
        "id": "x_iskMrBNN_a",
        "outputId": "4e5e3196-2b8a-4bc2-f483-672f123ce0c8"
      },
      "outputs": [
        {
          "output_type": "stream",
          "name": "stderr",
          "text": [
            "100%|██████████| 6000/6000 [01:25<00:00, 69.86it/s]\n"
          ]
        },
        {
          "output_type": "stream",
          "name": "stdout",
          "text": [
            "Best Value Found: 124981 - Target Value: 139533\n"
          ]
        },
        {
          "output_type": "display_data",
          "data": {
            "text/plain": [
              "<Figure size 432x288 with 1 Axes>"
            ],
            "image/png": "[encoded data removed]"
          },
          "metadata": {
            "needs_background": "light"
          }
        },
        {
          "output_type": "stream",
          "name": "stderr",
          "text": [
            "100%|██████████| 10000/10000 [02:43<00:00, 61.24it/s]\n"
          ]
        },
        {
          "output_type": "stream",
          "name": "stdout",
          "text": [
            "Best Value Found: 203996 - Target Value: 238208\n"
          ]
        },
        {
          "output_type": "display_data",
          "data": {
            "text/plain": [
              "<Figure size 432x288 with 1 Axes>"
            ],
            "image/png": "[encoded data removed]"
          },
          "metadata": {
            "needs_background": "light"
          }
        },
        {
          "output_type": "stream",
          "name": "stderr",
          "text": [
            "100%|██████████| 20000/20000 [06:56<00:00, 48.03it/s]\n"
          ]
        },
        {
          "output_type": "stream",
          "name": "stdout",
          "text": [
            "Best Value Found: 407318 - Target Value: 452844\n"
          ]
        },
        {
          "output_type": "display_data",
          "data": {
            "text/plain": [
              "<Figure size 432x288 with 1 Axes>"
            ],
            "image/png": "[encoded data removed]"
          },
          "metadata": {
            "needs_background": "light"
          }
        }
      ],
      "source": [
        "genetic = Genetic()\n",
        "for test in inputs:\n",
        "    bc, bs, records = genetic.run_algorithm(test['S'], test['T'], num_generations=2*len(test['S']))\n",
        "    print(f\"Best Value Found: {genetic.objective_function(bs, test['S'])} - Target Value: {test['T']}\")\n",
        "    plot(records)"
      ]
    }
  ],
  "metadata": {
    "colab": {
      "provenance": []
    },
    "kernelspec": {
      "display_name": "Python 3 (ipykernel)",
      "language": "python",
      "name": "python3"
    },
    "language_info": {
      "codemirror_mode": {
        "name": "ipython",
        "version": 3
      },
      "file_extension": ".py",
      "mimetype": "text/x-python",
      "name": "python",
      "nbconvert_exporter": "python",
      "pygments_lexer": "ipython3",
      "version": "3.10.0"
    },
    "vscode": {
      "interpreter": {
        "hash": "aee8b7b246df8f9039afb4144a1f6fd8d2ca17a180786b69acc140d282b71a49"
      }
    }
  },
  "nbformat": 4,
  "nbformat_minor": 0
}