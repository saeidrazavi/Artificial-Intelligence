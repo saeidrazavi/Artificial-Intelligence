{
  "cells": [
    {
      "attachments": {},
      "cell_type": "markdown",
      "id": "6973c7b3",
      "metadata": {
        "id": "6973c7b3"
      },
      "source": [
        "# AI Fall 2022 - A4 - Decision Tree\n"
      ]
    },
    {
      "cell_type": "markdown",
      "id": "583aa5d3",
      "metadata": {
        "id": "583aa5d3"
      },
      "source": [
        "## Practical Question - Decision Tree (25 + 5 points)\n",
        "In this question you will first write a program to find an appropriate order of features for training a decision tree based on information gain. In the second part, you will use existing implementations to train and tune a classifier using GridSearch on the given dataset. And try to finish this in <15 mins."
      ]
    },
    {
      "cell_type": "markdown",
      "id": "2ac5a6c8",
      "metadata": {
        "id": "2ac5a6c8"
      },
      "source": [
        "### Import\n",
        "Import the libraries you need in the next cell."
      ]
    },
    {
      "cell_type": "code",
      "execution_count": 1,
      "id": "3b6cef51",
      "metadata": {
        "id": "3b6cef51"
      },
      "outputs": [],
      "source": [
        "import pandas as pd\n",
        "import sklearn\n",
        "from sklearn.tree import DecisionTreeClassifier # Decision Tree Classifier\n",
        "from sklearn.model_selection import train_test_split #train_test_split function\n",
        "from sklearn import metrics #accuracy calculation\n",
        "from six import StringIO  \n",
        "from IPython.display import Image  \n",
        "from sklearn.tree import export_graphviz\n",
        "import pydotplus\n",
        "from sklearn.pipeline import Pipeline\n",
        "from sklearn.model_selection import GridSearchCV\n",
        "from sklearn.preprocessing import StandardScaler\n",
        "from sklearn import decomposition\n",
        "import numpy as np"
      ]
    },
    {
      "cell_type": "markdown",
      "id": "63dcc062",
      "metadata": {
        "id": "63dcc062"
      },
      "source": [
        "### Part A (20 points)\n",
        "Consider the following dataframe and answer the following questions:"
      ]
    },
    {
      "cell_type": "code",
      "execution_count": 2,
      "id": "bfb62d6e",
      "metadata": {
        "colab": {
          "base_uri": "https://localhost:8080/",
          "height": 206
        },
        "id": "bfb62d6e",
        "outputId": "e8d00e0c-969c-4512-bf7b-1e5624ba2dc4"
      },
      "outputs": [
        {
          "data": {
            "text/html": [
              "\n",
              "  <div id=\"df-146476f5-c02a-47d9-be52-9790b01fcbf3\">\n",
              "    <div class=\"colab-df-container\">\n",
              "      <div>\n",
              "<style scoped>\n",
              "    .dataframe tbody tr th:only-of-type {\n",
              "        vertical-align: middle;\n",
              "    }\n",
              "\n",
              "    .dataframe tbody tr th {\n",
              "        vertical-align: top;\n",
              "    }\n",
              "\n",
              "    .dataframe thead th {\n",
              "        text-align: right;\n",
              "    }\n",
              "</style>\n",
              "<table border=\"1\" class=\"dataframe\">\n",
              "  <thead>\n",
              "    <tr style=\"text-align: right;\">\n",
              "      <th></th>\n",
              "      <th>Race</th>\n",
              "      <th>Sex</th>\n",
              "      <th>Age</th>\n",
              "      <th>BMI</th>\n",
              "      <th>Smoker</th>\n",
              "      <th>Label</th>\n",
              "    </tr>\n",
              "  </thead>\n",
              "  <tbody>\n",
              "    <tr>\n",
              "      <th>0</th>\n",
              "      <td>1.0</td>\n",
              "      <td>1.0</td>\n",
              "      <td>43.0</td>\n",
              "      <td>25.803</td>\n",
              "      <td>1.0</td>\n",
              "      <td>False</td>\n",
              "    </tr>\n",
              "    <tr>\n",
              "      <th>1</th>\n",
              "      <td>2.0</td>\n",
              "      <td>2.0</td>\n",
              "      <td>72.0</td>\n",
              "      <td>33.394</td>\n",
              "      <td>0.0</td>\n",
              "      <td>True</td>\n",
              "    </tr>\n",
              "    <tr>\n",
              "      <th>2</th>\n",
              "      <td>1.0</td>\n",
              "      <td>2.0</td>\n",
              "      <td>4.0</td>\n",
              "      <td>20.278</td>\n",
              "      <td>1.0</td>\n",
              "      <td>False</td>\n",
              "    </tr>\n",
              "    <tr>\n",
              "      <th>3</th>\n",
              "      <td>1.0</td>\n",
              "      <td>2.0</td>\n",
              "      <td>59.0</td>\n",
              "      <td>32.918</td>\n",
              "      <td>0.0</td>\n",
              "      <td>False</td>\n",
              "    </tr>\n",
              "    <tr>\n",
              "      <th>4</th>\n",
              "      <td>1.0</td>\n",
              "      <td>2.0</td>\n",
              "      <td>34.0</td>\n",
              "      <td>30.743</td>\n",
              "      <td>1.0</td>\n",
              "      <td>False</td>\n",
              "    </tr>\n",
              "  </tbody>\n",
              "</table>\n",
              "</div>\n",
              "      <button class=\"colab-df-convert\" onclick=\"convertToInteractive('df-146476f5-c02a-47d9-be52-9790b01fcbf3')\"\n",
              "              title=\"Convert this dataframe to an interactive table.\"\n",
              "              style=\"display:none;\">\n",
              "        \n",
              "  <svg xmlns=\"http://www.w3.org/2000/svg\" height=\"24px\"viewBox=\"0 0 24 24\"\n",
              "       width=\"24px\">\n",
              "    <path d=\"M0 0h24v24H0V0z\" fill=\"none\"/>\n",
              "    <path d=\"M18.56 5.44l.94 2.06.94-2.06 2.06-.94-2.06-.94-.94-2.06-.94 2.06-2.06.94zm-11 1L8.5 8.5l.94-2.06 2.06-.94-2.06-.94L8.5 2.5l-.94 2.06-2.06.94zm10 10l.94 2.06.94-2.06 2.06-.94-2.06-.94-.94-2.06-.94 2.06-2.06.94z\"/><path d=\"M17.41 7.96l-1.37-1.37c-.4-.4-.92-.59-1.43-.59-.52 0-1.04.2-1.43.59L10.3 9.45l-7.72 7.72c-.78.78-.78 2.05 0 2.83L4 21.41c.39.39.9.59 1.41.59.51 0 1.02-.2 1.41-.59l7.78-7.78 2.81-2.81c.8-.78.8-2.07 0-2.86zM5.41 20L4 18.59l7.72-7.72 1.47 1.35L5.41 20z\"/>\n",
              "  </svg>\n",
              "      </button>\n",
              "      \n",
              "  <style>\n",
              "    .colab-df-container {\n",
              "      display:flex;\n",
              "      flex-wrap:wrap;\n",
              "      gap: 12px;\n",
              "    }\n",
              "\n",
              "    .colab-df-convert {\n",
              "      background-color: #E8F0FE;\n",
              "      border: none;\n",
              "      border-radius: 50%;\n",
              "      cursor: pointer;\n",
              "      display: none;\n",
              "      fill: #1967D2;\n",
              "      height: 32px;\n",
              "      padding: 0 0 0 0;\n",
              "      width: 32px;\n",
              "    }\n",
              "\n",
              "    .colab-df-convert:hover {\n",
              "      background-color: #E2EBFA;\n",
              "      box-shadow: 0px 1px 2px rgba(60, 64, 67, 0.3), 0px 1px 3px 1px rgba(60, 64, 67, 0.15);\n",
              "      fill: #174EA6;\n",
              "    }\n",
              "\n",
              "    [theme=dark] .colab-df-convert {\n",
              "      background-color: #3B4455;\n",
              "      fill: #D2E3FC;\n",
              "    }\n",
              "\n",
              "    [theme=dark] .colab-df-convert:hover {\n",
              "      background-color: #434B5C;\n",
              "      box-shadow: 0px 1px 3px 1px rgba(0, 0, 0, 0.15);\n",
              "      filter: drop-shadow(0px 1px 2px rgba(0, 0, 0, 0.3));\n",
              "      fill: #FFFFFF;\n",
              "    }\n",
              "  </style>\n",
              "\n",
              "      <script>\n",
              "        const buttonEl =\n",
              "          document.querySelector('#df-146476f5-c02a-47d9-be52-9790b01fcbf3 button.colab-df-convert');\n",
              "        buttonEl.style.display =\n",
              "          google.colab.kernel.accessAllowed ? 'block' : 'none';\n",
              "\n",
              "        async function convertToInteractive(key) {\n",
              "          const element = document.querySelector('#df-146476f5-c02a-47d9-be52-9790b01fcbf3');\n",
              "          const dataTable =\n",
              "            await google.colab.kernel.invokeFunction('convertToInteractive',\n",
              "                                                     [key], {});\n",
              "          if (!dataTable) return;\n",
              "\n",
              "          const docLinkHtml = 'Like what you see? Visit the ' +\n",
              "            '<a target=\"_blank\" href=https://colab.research.google.com/notebooks/data_table.ipynb>data table notebook</a>'\n",
              "            + ' to learn more about interactive tables.';\n",
              "          element.innerHTML = '';\n",
              "          dataTable['output_type'] = 'display_data';\n",
              "          await google.colab.output.renderOutput(dataTable, element);\n",
              "          const docLink = document.createElement('div');\n",
              "          docLink.innerHTML = docLinkHtml;\n",
              "          element.appendChild(docLink);\n",
              "        }\n",
              "      </script>\n",
              "    </div>\n",
              "  </div>\n",
              "  "
            ],
            "text/plain": [
              "   Race  Sex   Age     BMI  Smoker  Label\n",
              "0   1.0  1.0  43.0  25.803     1.0  False\n",
              "1   2.0  2.0  72.0  33.394     0.0   True\n",
              "2   1.0  2.0   4.0  20.278     1.0  False\n",
              "3   1.0  2.0  59.0  32.918     0.0  False\n",
              "4   1.0  2.0  34.0  30.743     1.0  False"
            ]
          },
          "execution_count": 2,
          "metadata": {},
          "output_type": "execute_result"
        }
      ],
      "source": [
        "df = pd.DataFrame({\n",
        "    'Race': [1.0, 2.0, 1.0, 1.0, 1.0, 1.0, 1.0, 1.0, 1.0, 1.0, 1.0, 1.0, 2.0, 1.0, 1.0, 1.0, 1.0, 1.0, 1.0, 1.0],\n",
        "    'Sex': [1.0, 2.0, 2.0, 2.0, 2.0, 2.0, 2.0, 2.0, 1.0, 1.0, 1.0, 2.0, 1.0, 2.0, 1.0, 1.0, 2.0, 1.0, 1.0, 2.0],\n",
        "    'Age': [43.0, 72.0, 4.0, 59.0, 34.0, 55.0, 41.0, 39.0, 6.0, 77.0, 67.0, 35.0, 45.0, 39.0, 32.0, 57.0, 99.0, 68.0, 47.0, 28.0],\n",
        "    'BMI': [25.803, 33.394, 20.278, 32.918, 30.743, 37.734, 23.725, 20.722, 19.452, 22.044, 17.481, 18.918, 28.578, 19.214, 23.562, 23.446, 21.872, 20.691, 25.471, 25.82],\n",
        "    'Smoker': [1.0, 0.0, 1.0, 0.0, 1.0, 1.0, 0.0, 1.0, 0.0, 1.0, 0.0, 1.0, 1.0, 0.0, 0.0, 0.0, 0.0, 0.0, 0.0, 1.0],\n",
        "    'Label': [False, True, False, False, False, True, False, False, False, False, True, False, False, False, False, False, False, False, True, False],\n",
        "})\n",
        "\n",
        "df.head()"
      ]
    },
    {
      "cell_type": "markdown",
      "id": "92cdcfa1",
      "metadata": {
        "id": "92cdcfa1"
      },
      "source": [
        "#### QA.1 (10 points)\n",
        "Complete the following function that calculates and returns the list of features based on their information gain."
      ]
    },
    {
      "cell_type": "code",
      "execution_count": 3,
      "id": "0fbEx47PfyRC",
      "metadata": {
        "id": "0fbEx47PfyRC"
      },
      "outputs": [],
      "source": [
        "def find_entropy(df):\n",
        "\n",
        "    true_num=len(df[(df['Label']==True)])\n",
        "    false_num=len(df[(df['Label']==False)])\n",
        "    if(true_num==0 and false_num==0):\n",
        "       return 0\n",
        "    else :     \n",
        "      pos_prb=(true_num)/(true_num+false_num) if true_num!=0 else 1 \n",
        "      neg_prb=(false_num)/(true_num+false_num) if false_num!=0 else 1 \n",
        "      #----------------------\n",
        "      entropy=-(pos_prb*np.log2(pos_prb) +neg_prb*np.log2(neg_prb))\n",
        "      return entropy"
      ]
    },
    {
      "cell_type": "code",
      "execution_count": 4,
      "id": "mwSg84URTXHL",
      "metadata": {
        "id": "mwSg84URTXHL"
      },
      "outputs": [],
      "source": [
        "def IG_cal(input:pd.DataFrame,attribute):\n",
        "    \n",
        "    initial_entropy=find_entropy(input)\n",
        "    #---------------------\n",
        "    domain=input[attribute].unique()\n",
        "    is_bool=True if len(domain)==2 else False\n",
        "\n",
        "    if(is_bool):\n",
        "      splited1=input[(input[attribute]==domain[0])]\n",
        "      num1=len(splited1)\n",
        "      splited2=input[(input[attribute]==domain[1])]\n",
        "      num2=len(splited2)\n",
        "      #----------------------\n",
        "      coef1=(num1/(num1+num2))\n",
        "      coef2=(num2/(num1+num2))\n",
        "      entropy_first=coef1*find_entropy(splited1)\n",
        "      entropy_second=coef2*find_entropy(splited2)\n",
        "      #---------------------\n",
        "      total_entropy=entropy_first+entropy_second\n",
        "\n",
        "      return initial_entropy-total_entropy,'bool'\n",
        "\n",
        "    if(not is_bool):\n",
        "    \n",
        "      domain=list(df[attribute].unique())\n",
        "      #--------------------\n",
        "      sorted_value=sorted(domain)\n",
        "      adjacent_values=[np.mean(sorted_value[i:i+2]) for i in range(len(sorted_value)-1)]\n",
        "      #--------------------\n",
        "      best_thresh=0\n",
        "      least_entropy=1\n",
        "      for threshold in adjacent_values:\n",
        "\n",
        "          splited1=input[(input[attribute]<=threshold)]\n",
        "          num1=len(splited1)\n",
        "          splited2=input[(input[attribute]>threshold)]\n",
        "          num2=len(splited2)\n",
        "          #----------------------\n",
        "          coef1=(num1/(num1+num2))\n",
        "          coef2=(num2/(num1+num2))\n",
        "          entropy_first=coef1*find_entropy(splited1)\n",
        "          entropy_second=coef2*find_entropy(splited2)\n",
        "          #---------------------\n",
        "          total_entropy=entropy_first+entropy_second\n",
        "          #--------------------\n",
        "          best_thresh= threshold if total_entropy<least_entropy else best_thresh\n",
        "          least_entropy=total_entropy if total_entropy<least_entropy else least_entropy\n",
        "\n",
        "      return initial_entropy-least_entropy,best_thresh          "
      ]
    },
    {
      "cell_type": "code",
      "execution_count": 5,
      "id": "376c215b",
      "metadata": {
        "colab": {
          "base_uri": "https://localhost:8080/"
        },
        "id": "376c215b",
        "outputId": "970108d2-b957-4d2c-d82b-163280620bca"
      },
      "outputs": [
        {
          "name": "stdout",
          "output_type": "stream",
          "text": [
            "sorted_features :['Age', 'BMI', 'Race', 'Smoker', 'Sex'] \n",
            " ---------\n",
            "information gain based on order of features :[0.2759438679601623, 0.26899559358928116, 0.03690791540384364, 0.03051882909598158, 0.0018149273570102764]\n",
            " ----------\n",
            "threshold_list :[46.0, 33.156, 'bool', 'bool', 'bool']\n"
          ]
        }
      ],
      "source": [
        "def feature_order(X_data, y_data):\n",
        "    '''\n",
        "    Calculate the best feature order\n",
        "    for training a decision tree based on\n",
        "    information gain.\n",
        "    Input:\n",
        "        X_data (pd.DataFrame) contains data features\n",
        "        y_data (pd.Series) contains the labels\n",
        "    Output:\n",
        "        order (list[str]): The `X_data` columns in the correct order\n",
        "    '''\n",
        "    order = list(X_data)\n",
        "    # Your code here\n",
        "\n",
        "    IG_List=[]\n",
        "    threshold_list=[]\n",
        "    #------------------------\n",
        "    for attribute in order:\n",
        "        IG,threshold=IG_cal(df,attribute)\n",
        "        IG_List.append(IG)\n",
        "        threshold_list.append(threshold)\n",
        "    #---------------------------\n",
        "    order = [x for _,x in sorted(zip(IG_List,order),reverse=True)] \n",
        "    threshold_list=  [x for _,x in sorted(zip(IG_List,threshold_list),reverse=True)] \n",
        "    IG_List=sorted(IG_List, reverse=True) \n",
        "    \n",
        "    return order,IG_List,threshold_list\n",
        "\n",
        "\n",
        "sorted_features,ig_order,threshold_list=feature_order(df.columns[:-1], df.Label)\n",
        "print(f\"sorted_features :{sorted_features} \\n ---------\")\n",
        "print(f\"information gain based on order of features :{ig_order}\\n ----------\")\n",
        "print(f\"threshold_list :{threshold_list }\")"
      ]
    },
    {
      "cell_type": "markdown",
      "id": "2e61bfeb",
      "metadata": {
        "id": "2e61bfeb"
      },
      "source": [
        "#### QA.2 (5 points)\n",
        "What are some of the effective approaches to prevent the tree from overfitting? (three approaches)"
      ]
    },
    {
      "cell_type": "markdown",
      "id": "960950b9",
      "metadata": {
        "id": "960950b9"
      },
      "source": [
        "<font color=#183364>\n",
        "    <i>\n",
        "        Answer.\n",
        "        <ol>\n",
        "            <li> Pre-Pruning : avoid expanding depth of tree, based in a threshold  </li> \n",
        "            <li> Post-Pruning : considers the subtrees of the full tree and uses a cross-validated metric to score each of the subtrees. To clarify, we are using subtree to mean a tree with the same root as the original tree but without some branches. </li>\n",
        "            <li> Random Forest : The basic idea behind this is to combine multiple decision trees in determining the final output rather than relying on individual decision trees. \n",
        "Random Forest has multiple decision trees as base learning models. We randomly perform row sampling and feature sampling from the dataset forming sample datasets for every model</li>\n",
        "        </ol>\n",
        "    </i>\n",
        "</font>"
      ]
    },
    {
      "cell_type": "markdown",
      "id": "02158721",
      "metadata": {
        "id": "02158721"
      },
      "source": [
        "#### QA.3 (5 points)\n",
        "About the `Age` feature which is an integer-valued input attribute, how can a tree utilize it for classification? Write a small piece of code to find the answer for this specific column."
      ]
    },
    {
      "cell_type": "markdown",
      "id": "1244b4fe",
      "metadata": {
        "id": "1244b4fe"
      },
      "source": [
        "<font color=#183364>\n",
        "    <i>\n",
        "        Answer : for continues variables, it's good to sort the observed data and then make a new list, that is average of adjacency elements. then we itterate all over this adjacency array and set evaulate model performance according to element of adjacency array elements . the one with biggest accuracy is the best cutoff point\n",
        "    </i>\n",
        "</font>"
      ]
    },
    {
      "cell_type": "code",
      "execution_count": 6,
      "id": "11d4beee",
      "metadata": {
        "colab": {
          "base_uri": "https://localhost:8080/"
        },
        "id": "11d4beee",
        "outputId": "f57845df-7e30-490f-83ec-3c9d09e20319"
      },
      "outputs": [
        {
          "name": "stdout",
          "output_type": "stream",
          "text": [
            "best_threshold :46.0\n",
            "best information gain : 0.2759438679601623\n"
          ]
        }
      ],
      "source": [
        "# Your code here\n",
        "#--------------------\n",
        "initial_entropy=find_entropy(df)\n",
        "domain=list(df['Age'].unique())\n",
        "#--------------------\n",
        "sorted_value=sorted(domain)\n",
        "adjacent_values=[np.mean(sorted_value[i:i+2]) for i in range(len(sorted_value)-1)]\n",
        "#--------------------\n",
        "best_thresh=0\n",
        "least_entropy=1\n",
        "for threshold in adjacent_values:\n",
        "\n",
        "    splited1=df[(df['Age']<=threshold)]\n",
        "    num1=len(splited1)\n",
        "    splited2=df[(df['Age']>threshold)]\n",
        "    num2=len(splited2)\n",
        "    #----------------------\n",
        "    coef1=(num1/(num1+num2))\n",
        "    coef2=(num2/(num1+num2))\n",
        "    entropy_first=coef1*find_entropy(splited1)\n",
        "    entropy_second=coef2*find_entropy(splited2)\n",
        "    #---------------------\n",
        "    total_entropy=entropy_first+entropy_second\n",
        "    #--------------------\n",
        "    best_thresh= threshold if total_entropy<least_entropy else best_thresh\n",
        "    least_entropy=total_entropy if total_entropy<least_entropy else least_entropy\n",
        "#--------------------------------\n",
        "print(f\"best_threshold :{best_thresh}\")\n",
        "print(f\"best information gain : {initial_entropy-least_entropy}\")"
      ]
    },
    {
      "cell_type": "markdown",
      "id": "3ad880d0",
      "metadata": {
        "id": "3ad880d0"
      },
      "source": [
        "### Part B (10 points)\n",
        "In this part you will learn more about [sklearn.tree.DecisionTreeClassifier](https://scikit-learn.org/stable/modules/generated/sklearn.tree.DecisionTreeClassifier.html) and use it to train a classifier and tune its parameters."
      ]
    },
    {
      "cell_type": "markdown",
      "id": "58925924",
      "metadata": {
        "id": "58925924"
      },
      "source": [
        "#### QB.1 (5 points)\n",
        "For measuring the _accuracy_ of your models, choose a subset of the given dataset as your validation set (Check out [sklearn.model_selection.train_test_split](https://scikit-learn.org/stable/modules/generated/sklearn.model_selection.train_test_split.html))."
      ]
    },
    {
      "cell_type": "code",
      "execution_count": 7,
      "id": "UWebZlw-Gv7A",
      "metadata": {
        "id": "UWebZlw-Gv7A"
      },
      "outputs": [],
      "source": [
        "feature_cols = ['Race', 'Sex', 'Age', 'BMI','Smoker']"
      ]
    },
    {
      "cell_type": "code",
      "execution_count": 49,
      "id": "8ddd8cef",
      "metadata": {
        "id": "8ddd8cef"
      },
      "outputs": [],
      "source": [
        "# Your code here\n",
        "## Split the dataset\n",
        "X = df[feature_cols] # Features\n",
        "y = df.Label # Target variable\n",
        "X_train, X_test, y_train, y_test = train_test_split(X, y, test_size=0.3, random_state=1) # 70% training and 30% test"
      ]
    },
    {
      "cell_type": "code",
      "execution_count": 50,
      "id": "b5c1b30f",
      "metadata": {
        "id": "b5c1b30f"
      },
      "outputs": [],
      "source": [
        "# Your code here\n",
        "## Set your own hyperparameters below, such as:\n",
        "dt_hyperparams = {\n",
        "    'min_samples_split': 2,\n",
        "    'criterion': 'gini' ,\n",
        "    'max_depth' : 1\n",
        "}\n",
        "\n",
        "## Train the model and check its performance\n",
        "clf = DecisionTreeClassifier(class_weight=None, criterion=dt_hyperparams['criterion'], max_depth=dt_hyperparams['max_depth'],\n",
        " max_features=None, max_leaf_nodes=None, min_samples_leaf=1,\n",
        " min_samples_split=dt_hyperparams['min_samples_split'])\n",
        "#-------------------------\n",
        "clf = clf.fit(X_train,y_train)\n",
        "#-------------------------\n",
        "y_pred = clf.predict(X_test)\n",
        "\n",
        "# measure accuracy"
      ]
    },
    {
      "cell_type": "code",
      "execution_count": 51,
      "id": "FOHHFH0nHcvm",
      "metadata": {
        "colab": {
          "base_uri": "https://localhost:8080/"
        },
        "id": "FOHHFH0nHcvm",
        "outputId": "56685eb5-403b-4433-d047-a09c139eaed7"
      },
      "outputs": [
        {
          "name": "stdout",
          "output_type": "stream",
          "text": [
            "Accuracy: 0.6666666666666666\n"
          ]
        }
      ],
      "source": [
        "print(\"Accuracy:\",metrics.accuracy_score(y_test, y_pred))"
      ]
    },
    {
      "cell_type": "markdown",
      "id": "bbe85fdf",
      "metadata": {
        "id": "bbe85fdf"
      },
      "source": [
        "#### QB.2 (5 points)\n",
        "Take a look at customizable and potentially useful input params of the model, define a range for each of their values, and use GridSearch (Feel free to implement/[import](https://scikit-learn.org/stable/modules/generated/sklearn.model_selection.GridSearchCV.html) it) and find a set of hyperparametetrs that work best among your candidates."
      ]
    },
    {
      "cell_type": "code",
      "execution_count": 52,
      "id": "89f4c704",
      "metadata": {
        "colab": {
          "base_uri": "https://localhost:8080/"
        },
        "id": "89f4c704",
        "outputId": "eae2c5f7-3e49-438a-8f30-55a00f9cdf5e"
      },
      "outputs": [
        {
          "name": "stdout",
          "output_type": "stream",
          "text": [
            "Fitting 5 folds for each of 108 candidates, totalling 540 fits\n"
          ]
        },
        {
          "name": "stderr",
          "output_type": "stream",
          "text": [
            "/usr/local/lib/python3.8/dist-packages/sklearn/model_selection/_split.py:676: UserWarning: The least populated class in y has only 3 members, which is less than n_splits=5.\n",
            "  warnings.warn(\n"
          ]
        },
        {
          "data": {
            "text/plain": [
              "GridSearchCV(cv=5, estimator=DecisionTreeClassifier(random_state=1024),\n",
              "             param_grid={'ccp_alpha': [0.1, 0.01, 0.001],\n",
              "                         'criterion': ['gini', 'entropy'],\n",
              "                         'max_depth': [1, 2, 3, 4, 5, 6],\n",
              "                         'max_features': ['auto', 'sqrt', 'log2']},\n",
              "             verbose=True)"
            ]
          },
          "execution_count": 52,
          "metadata": {},
          "output_type": "execute_result"
        }
      ],
      "source": [
        "param_grid = {'max_features': ['auto', 'sqrt', 'log2'],\n",
        "              'ccp_alpha': [0.1, .01, .001],\n",
        "              'max_depth' : [1,2,3,4,5,6],\n",
        "              'criterion' :['gini', 'entropy']\n",
        "             }\n",
        "tree_clas = DecisionTreeClassifier(random_state=1024)\n",
        "grid_search = GridSearchCV(estimator=tree_clas, param_grid=param_grid, cv=5, verbose=True)\n",
        "grid_search.fit(X_train, y_train)"
      ]
    },
    {
      "cell_type": "code",
      "execution_count": 53,
      "id": "ZD7J8Lq36-LO",
      "metadata": {
        "colab": {
          "base_uri": "https://localhost:8080/"
        },
        "id": "ZD7J8Lq36-LO",
        "outputId": "98672d75-fb88-4e3b-a29e-57cf00f512b5"
      },
      "outputs": [
        {
          "data": {
            "text/plain": [
              "DecisionTreeClassifier(ccp_alpha=0.1, criterion='entropy', max_depth=3,\n",
              "                       max_features='auto', random_state=1024)"
            ]
          },
          "execution_count": 53,
          "metadata": {},
          "output_type": "execute_result"
        }
      ],
      "source": [
        "final_model = grid_search.best_estimator_\n",
        "final_model"
      ]
    },
    {
      "cell_type": "code",
      "execution_count": 54,
      "id": "HX4F5kLkLnrA",
      "metadata": {
        "colab": {
          "base_uri": "https://localhost:8080/"
        },
        "id": "HX4F5kLkLnrA",
        "outputId": "74f65f50-7468-412c-aad9-71edf3748b33"
      },
      "outputs": [
        {
          "name": "stdout",
          "output_type": "stream",
          "text": [
            "Accuracy: 0.6666666666666666\n"
          ]
        }
      ],
      "source": [
        "y_pred = final_model.predict(X_test)\n",
        "print(\"Accuracy:\",metrics.accuracy_score(y_test, y_pred))"
      ]
    },
    {
      "cell_type": "markdown",
      "id": "9d3bc161",
      "metadata": {
        "id": "9d3bc161"
      },
      "source": [
        "#### QB.3 (5 extra points)\n",
        "Visualize the tree splits and interpret it (Hint: Search about `IPython.display.Image`, `pydotplus`, `StringIO`, and `export_graphviz`)."
      ]
    },
    {
      "cell_type": "markdown",
      "id": "vIrQS0mo-xUB",
      "metadata": {
        "id": "vIrQS0mo-xUB"
      },
      "source": [
        "<font color=#183364>\n",
        "    <i>\n",
        "        interpretation:\n",
        "        <ol>\n",
        "            in each step, our tree try to find classes with least entropy. so our model start with expanding BMI feature. this method continues until we reach leaves with zero entropy  </li> \n",
        "          \n",
        "    \n",
        "</font>"
      ]
    },
    {
      "cell_type": "code",
      "execution_count": 57,
      "id": "vC_UE7TPEzqM",
      "metadata": {
        "colab": {
          "base_uri": "https://localhost:8080/",
          "height": 594
        },
        "id": "vC_UE7TPEzqM",
        "outputId": "41c2713e-8b9e-4da4-d555-616cbfdc7bbe"
      },
      "outputs": [
        {
          "data": {
            "image/png": "[encoded data removed]",
            "text/plain": [
              "<IPython.core.display.Image object>"
            ]
          },
          "execution_count": 57,
          "metadata": {},
          "output_type": "execute_result"
        }
      ],
      "source": [
        "final_model.fit(X_train,y_train)\n",
        "dot_data = StringIO()\n",
        "export_graphviz(final_model, out_file=dot_data,  \n",
        "                filled=True, rounded=True,\n",
        "                special_characters=True, feature_names = feature_cols,class_names=['0','1'])\n",
        "graph = pydotplus.graph_from_dot_data(dot_data.getvalue())  \n",
        "graph.write_png('diabetes.png')\n",
        "Image(graph.create_png())"
      ]
    }
  ],
  "metadata": {
    "colab": {
      "provenance": []
    },
    "kernelspec": {
      "display_name": "Python 3 (ipykernel)",
      "language": "python",
      "name": "python3"
    },
    "language_info": {
      "codemirror_mode": {
        "name": "ipython",
        "version": 3
      },
      "file_extension": ".py",
      "mimetype": "text/x-python",
      "name": "python",
      "nbconvert_exporter": "python",
      "pygments_lexer": "ipython3",
      "version": "3.10.0"
    }
  },
  "nbformat": 4,
  "nbformat_minor": 5
}
